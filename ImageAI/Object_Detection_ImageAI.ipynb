{
 "cells": [
  {
   "cell_type": "markdown",
   "metadata": {},
   "source": [
    "# FACE DETECTION USING IMAGEAI LIBRABRY"
   ]
  },
  {
   "cell_type": "markdown",
   "metadata": {},
   "source": [
    "#### Importing all the required dependencies "
   ]
  },
  {
   "cell_type": "code",
   "execution_count": 1,
   "metadata": {},
   "outputs": [
    {
     "name": "stderr",
     "output_type": "stream",
     "text": [
      "Using TensorFlow backend.\n"
     ]
    }
   ],
   "source": [
    "import os\n",
    "from imageai.Detection import ObjectDetection"
   ]
  },
  {
   "cell_type": "markdown",
   "metadata": {},
   "source": [
    "#### Defined a variable to hold the path to the folder where our python file, RetinaNet model file and images."
   ]
  },
  {
   "cell_type": "code",
   "execution_count": 2,
   "metadata": {},
   "outputs": [],
   "source": [
    "execution_path = os.getcwd()"
   ]
  },
  {
   "cell_type": "markdown",
   "metadata": {},
   "source": [
    "#### defined our object detection class, set the model type to RetinaNet "
   ]
  },
  {
   "cell_type": "code",
   "execution_count": 3,
   "metadata": {},
   "outputs": [],
   "source": [
    "detector = ObjectDetection()        #Object detection class\n",
    "detector.setModelTypeAsRetinaNet()  #set model to RetinaNet"
   ]
  },
  {
   "cell_type": "markdown",
   "metadata": {},
   "source": [
    "#### set the model path to the path of our RetinaNet model"
   ]
  },
  {
   "cell_type": "code",
   "execution_count": 5,
   "metadata": {},
   "outputs": [],
   "source": [
    "detector.setModelPath(os.path.join(execution_path,\"resnet50_coco_best_v2.0.1.h5\"))"
   ]
  },
  {
   "cell_type": "markdown",
   "metadata": {},
   "source": [
    "#### load the model into the object detection class. we called the detection function and parsed in the input image path and the output image path"
   ]
  },
  {
   "cell_type": "code",
   "execution_count": 6,
   "metadata": {},
   "outputs": [],
   "source": [
    "detector.loadModel()\n",
    "\n",
    "detections = detector.detectObjectsFromImage(input_image=os.path.join(execution_path,\"image.jpg\"),output_image_path=os.path.join(execution_path,\"imagenew.jpg\"))"
   ]
  },
  {
   "cell_type": "markdown",
   "metadata": {},
   "source": [
    "#### iterate over all the results returned by the detector.detectObjectsFromImage function. then print out the name and percentage probability of the model on each object detected in the image"
   ]
  },
  {
   "cell_type": "code",
   "execution_count": 8,
   "metadata": {},
   "outputs": [
    {
     "name": "stdout",
     "output_type": "stream",
     "text": [
      "traffic light : 58.43990445137024\n",
      "traffic light : 67.57366061210632\n",
      "traffic light : 73.84759187698364\n",
      "traffic light : 76.92007422447205\n",
      "handbag : 53.653085231781006\n",
      "person : 51.14946365356445\n",
      "car : 56.79405927658081\n",
      "person : 84.5178484916687\n",
      "person : 75.34878253936768\n",
      "person : 82.31588006019592\n",
      "person : 66.14311337471008\n",
      "person : 88.20791244506836\n",
      "person : 91.97776913642883\n",
      "person : 82.30202794075012\n",
      "person : 74.13855195045471\n",
      "person : 54.59216237068176\n",
      "person : 76.77971720695496\n",
      "person : 57.86105990409851\n",
      "person : 80.72205185890198\n",
      "person : 73.83946776390076\n",
      "person : 90.9795880317688\n",
      "person : 80.26809692382812\n",
      "person : 61.68602108955383\n"
     ]
    }
   ],
   "source": [
    "for eachObject in detections:\n",
    "    print(eachObject[\"name\"] , \":\" , eachObject[\"percentage_probability\"])"
   ]
  }
 ],
 "metadata": {
  "kernelspec": {
   "display_name": "Python 3",
   "language": "python",
   "name": "python3"
  },
  "language_info": {
   "codemirror_mode": {
    "name": "ipython",
    "version": 3
   },
   "file_extension": ".py",
   "mimetype": "text/x-python",
   "name": "python",
   "nbconvert_exporter": "python",
   "pygments_lexer": "ipython3",
   "version": "3.6.1"
  }
 },
 "nbformat": 4,
 "nbformat_minor": 2
}
